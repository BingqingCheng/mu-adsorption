{
 "cells": [
  {
   "cell_type": "code",
   "execution_count": 1,
   "metadata": {},
   "outputs": [],
   "source": [
    "import ase\n",
    "from ase import Atoms, Atom\n",
    "from ase.io import write\n",
    "from ase.visualize import view\n",
    "import numpy as np\n",
    "from ase.neighborlist import NeighborList"
   ]
  },
  {
   "cell_type": "raw",
   "metadata": {},
   "source": [
    "from ase.spacegroup import crystal\n",
    "# Rutile TiO2:\n",
    "a = 4.6\n",
    "c = 2.95\n",
    "\n",
    "gra = crystal(['Ti', 'O'], basis=[(0, 0, 0.0), (0.3, 0.3, 0.0)],\n",
    "                spacegroup=136, cellpar=[a, a, c, 90, 90, 90])\n",
    "#write('rutile.xyz', atoms)\n",
    "\n",
    "#view(gra)\n",
    "\n",
    "s=ase.build.surface(gra, (1,0,1), 2, vacuum=None, tol=1e-10, periodic=False)\n",
    "s *= (2, 4, 1)\n",
    "view(s)\n",
    "#write('rutile-101-2-layers.xyz', s, format='xyz')"
   ]
  },
  {
   "cell_type": "code",
   "execution_count": 5,
   "metadata": {},
   "outputs": [],
   "source": [
    "from ase.build import nanotube\n",
    "\n",
    "#atoms1 = nanotube(16, 0, length=4)\n",
    "\n",
    "atoms2 = nanotube(12, 12, length=4, bond=1.42, symbol='C')"
   ]
  },
  {
   "cell_type": "code",
   "execution_count": 3,
   "metadata": {},
   "outputs": [],
   "source": [
    "view(atoms2)"
   ]
  },
  {
   "cell_type": "code",
   "execution_count": 6,
   "metadata": {},
   "outputs": [],
   "source": [
    "write('CNT-12-12.xyz', atoms2, format='xyz')"
   ]
  },
  {
   "cell_type": "code",
   "execution_count": null,
   "metadata": {},
   "outputs": [],
   "source": []
  }
 ],
 "metadata": {
  "kernelspec": {
   "display_name": "Python 3",
   "language": "python",
   "name": "python3"
  },
  "language_info": {
   "codemirror_mode": {
    "name": "ipython",
    "version": 3
   },
   "file_extension": ".py",
   "mimetype": "text/x-python",
   "name": "python",
   "nbconvert_exporter": "python",
   "pygments_lexer": "ipython3",
   "version": "3.7.7"
  }
 },
 "nbformat": 4,
 "nbformat_minor": 4
}
